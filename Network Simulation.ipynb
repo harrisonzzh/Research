{
 "cells": [
  {
   "cell_type": "code",
   "execution_count": 187,
   "metadata": {
    "collapsed": true
   },
   "outputs": [],
   "source": [
    "import networkx as nx"
   ]
  },
  {
   "cell_type": "code",
   "execution_count": 188,
   "metadata": {
    "collapsed": true
   },
   "outputs": [],
   "source": [
    "import numpy as np\n",
    "import matplotlib.pyplot as plt\n",
    "import itertools as itr\n",
    "import warnings \n",
    "import seaborn as sns\n",
    "import matplotlib.pyplot as plt\n",
    "%matplotlib inline\n",
    "warnings.filterwarnings('ignore')"
   ]
  },
  {
   "cell_type": "code",
   "execution_count": 189,
   "metadata": {},
   "outputs": [
    {
     "data": {
      "image/png": "[encoded data removed]",
      "text/plain": [
       "<matplotlib.figure.Figure at 0x11ad59908>"
      ]
     },
     "metadata": {},
     "output_type": "display_data"
    }
   ],
   "source": [
    "num_of_hub = 3\n",
    "exp_spoke = 2\n",
    "num_of_spoke = np.random.normal(exp_spoke,1,num_of_hub)\n",
    "num_of_spoke = list(map(round, num_of_spoke))\n",
    "hub = list(range(1,num_of_hub+1))\n",
    "\n",
    "nw = nx.Graph()\n",
    "nw.add_nodes_from(hub, label = \"Hub\")\n",
    "hub_edges = np.array(list(itr.combinations(hub,2)))\n",
    "nw.add_edges_from(hub_edges, label = \"Hub_edges\")\n",
    "\n",
    "for i, h in enumerate(hub):\n",
    "    num_of_s = int(num_of_spoke[i])\n",
    "    spokes = [(h*100 + a) for a in range(1,num_of_s+1)]\n",
    "    nw.add_nodes_from(spokes, label = \"spokes of hub \" + str(h) )\n",
    "    edge_to_hub = [(h, s) for s in spokes ]\n",
    "    nw.add_edges_from(edge_to_hub, label = \"Spoke_edges\" )\n",
    "    \n",
    "plt.figure(figsize = (12,8))\n",
    "nx.draw_networkx(nw)\n",
    "plt.show()"
   ]
  },
  {
   "cell_type": "code",
   "execution_count": 190,
   "metadata": {
    "collapsed": true
   },
   "outputs": [],
   "source": [
    "itin = np.array(list(itr.combinations(nx.nodes(nw),2)))"
   ]
  },
  {
   "cell_type": "code",
   "execution_count": 191,
   "metadata": {},
   "outputs": [
    {
     "data": {
      "text/html": [
       "<div>\n",
       "<style>\n",
       "    .dataframe thead tr:only-child th {\n",
       "        text-align: right;\n",
       "    }\n",
       "\n",
       "    .dataframe thead th {\n",
       "        text-align: left;\n",
       "    }\n",
       "\n",
       "    .dataframe tbody tr th {\n",
       "        vertical-align: top;\n",
       "    }\n",
       "</style>\n",
       "<table border=\"1\" class=\"dataframe\">\n",
       "  <thead>\n",
       "    <tr style=\"text-align: right;\">\n",
       "      <th></th>\n",
       "      <th>itinenary</th>\n",
       "    </tr>\n",
       "  </thead>\n",
       "  <tbody>\n",
       "    <tr>\n",
       "      <th>0</th>\n",
       "      <td>(1, 2)</td>\n",
       "    </tr>\n",
       "    <tr>\n",
       "      <th>1</th>\n",
       "      <td>(1, 3)</td>\n",
       "    </tr>\n",
       "    <tr>\n",
       "      <th>2</th>\n",
       "      <td>(1, 101)</td>\n",
       "    </tr>\n",
       "    <tr>\n",
       "      <th>3</th>\n",
       "      <td>(1, 102)</td>\n",
       "    </tr>\n",
       "    <tr>\n",
       "      <th>4</th>\n",
       "      <td>(1, 201)</td>\n",
       "    </tr>\n",
       "  </tbody>\n",
       "</table>\n",
       "</div>"
      ],
      "text/plain": [
       "  itinenary\n",
       "0    (1, 2)\n",
       "1    (1, 3)\n",
       "2  (1, 101)\n",
       "3  (1, 102)\n",
       "4  (1, 201)"
      ]
     },
     "execution_count": 191,
     "metadata": {},
     "output_type": "execute_result"
    }
   ],
   "source": [
    "import pandas as pd\n",
    "df_itin = pd.DataFrame({'itinenary': list(map(tuple, itin))})\n",
    "df_itin.head(5)"
   ]
  },
  {
   "cell_type": "code",
   "execution_count": 192,
   "metadata": {
    "collapsed": true
   },
   "outputs": [],
   "source": [
    "def clr(tup):\n",
    "    a = tup[0]\n",
    "    b = tup[1]\n",
    "    if (a < 100 and b>= 100) or (a >= 100 and b < 100):\n",
    "        return 'spoke-hub'\n",
    "    elif a < 100 and b < 100:\n",
    "        return 'hub-hub'\n",
    "    elif a >= 100 and b >= 100:\n",
    "        return 'spoke-spoke'"
   ]
  },
  {
   "cell_type": "code",
   "execution_count": 193,
   "metadata": {
    "collapsed": true
   },
   "outputs": [],
   "source": [
    "itin_type = list(map(clr, df_itin['itinenary']))\n",
    "df_itin['type'] = itin_type"
   ]
  },
  {
   "cell_type": "code",
   "execution_count": 194,
   "metadata": {
    "collapsed": true
   },
   "outputs": [],
   "source": [
    "def path_len(G, tup):\n",
    "    a = tup[0]\n",
    "    b = tup[1]\n",
    "    return nx.shortest_path_length(G,a,b)\n",
    "\n",
    "paths = list(map(lambda x: path_len(nw, x), df_itin['itinenary']))"
   ]
  },
  {
   "cell_type": "code",
   "execution_count": 195,
   "metadata": {
    "collapsed": true
   },
   "outputs": [],
   "source": [
    "df_itin['length'] = paths"
   ]
  },
  {
   "cell_type": "code",
   "execution_count": 196,
   "metadata": {
    "collapsed": true
   },
   "outputs": [],
   "source": [
    "def price(row):\n",
    "    #hub to spoke\n",
    "    h_s_mean = 0.7\n",
    "    h_s_var = 0.08\n",
    "    \n",
    "    #spoke to hub to spoke\n",
    "    s_h1_s_mean = 0.9\n",
    "    s_h1_s_var = 0.08\n",
    "    \n",
    "    #hub to hub\n",
    "    h_h_mean = 1.0\n",
    "    h_h_var = 0.1\n",
    "\n",
    "    #hub to hub to spoke\n",
    "    h_h_s_mean = 1.3\n",
    "    h_h_s_var = 0.1\n",
    "    \n",
    "    #spoke to hub to hub to spoke\n",
    "    s_h2_s_mean = 1.5\n",
    "    s_h2_s_var = 0.1\n",
    "     \n",
    "    \n",
    "    if row[1] == 'hub-hub':\n",
    "        return np.random.lognormal(h_h_mean, h_h_var)*100\n",
    "    elif row[2] == 2 and row[1] == 'spoke-spoke':\n",
    "        return np.random.lognormal(s_h1_s_mean, s_h1_s_var)*100\n",
    "    elif row[2] == 2 and row[1] == 'spoke-hub':\n",
    "        return np.random.lognormal(h_h_s_mean, h_h_s_var)*100\n",
    "    elif row[1] == 'spoke-hub':\n",
    "        return np.random.lognormal(h_s_mean, h_s_var)*100\n",
    "    elif row[2] == 3:\n",
    "        return np.random.lognormal(s_h2_s_mean, s_h2_s_var)*100\n",
    "    \n",
    "    "
   ]
  },
  {
   "cell_type": "code",
   "execution_count": 197,
   "metadata": {},
   "outputs": [],
   "source": [
    "df_itin['fare1'] = df_itin.apply(price, axis = 1)"
   ]
  },
  {
   "cell_type": "code",
   "execution_count": 198,
   "metadata": {},
   "outputs": [
    {
     "name": "stdout",
     "output_type": "stream",
     "text": [
      "The average fare (class1) of a hub to spoke is  197.9\n",
      "The average fare (class1) of a spoke to hub to spoke is  255.49\n",
      "The average fare (class1) of a hub to hub is  243.4\n",
      "The average fare (class1) of a hub to hub to spoke is  364.01\n",
      "The average fare (class1) of a spoke to hub to hub to spoke is  475.49\n"
     ]
    }
   ],
   "source": [
    "s_h2_s = df_itin[df_itin.type == 'spoke-spoke'][df_itin.length == 3].fare1.mean()\n",
    "s_h1_s = df_itin[df_itin.type == 'spoke-spoke'][df_itin.length == 2].fare1.mean()\n",
    "h_s = df_itin[df_itin.type == 'spoke-hub'][df_itin.length == 1].fare1.mean()\n",
    "h_h_s = df_itin[df_itin.type == 'spoke-hub'][df_itin.length == 2].fare1.mean()\n",
    "h_h = df_itin[(df_itin.type == 'hub-hub')].fare1.mean()\n",
    "\n",
    "print('The average fare (class1) of a hub to spoke is ', round(h_s, 2))\n",
    "print('The average fare (class1) of a spoke to hub to spoke is ', round(s_h1_s, 2))\n",
    "print('The average fare (class1) of a hub to hub is ', round(h_h, 2))\n",
    "print('The average fare (class1) of a hub to hub to spoke is ', round(h_h_s, 2))\n",
    "print('The average fare (class1) of a spoke to hub to hub to spoke is ', round(s_h2_s, 2))\n",
    "\n"
   ]
  },
  {
   "cell_type": "code",
   "execution_count": 199,
   "metadata": {},
   "outputs": [
    {
     "data": {
      "text/plain": [
       "<matplotlib.axes._subplots.AxesSubplot at 0x11ad34048>"
      ]
     },
     "execution_count": 199,
     "metadata": {},
     "output_type": "execute_result"
    },
    {
     "data": {
      "image/png": "[encoded data removed]",
      "text/plain": [
       "<matplotlib.figure.Figure at 0x11a87fda0>"
      ]
     },
     "metadata": {},
     "output_type": "display_data"
    }
   ],
   "source": [
    "sns.distplot(df_itin[df_itin.type == 'spoke-spoke'][df_itin.length == 3].fare1)"
   ]
  },
  {
   "cell_type": "code",
   "execution_count": null,
   "metadata": {
    "collapsed": true
   },
   "outputs": [],
   "source": [
    "## df_itin['fare2'] = df_itin['fare1']*1.5\n",
    "df_itin['fare3'] = df_itin['fare1']*2.5\n",
    "\n",
    "df_fare = df_itin[['fare1', 'fare2', 'fare3']]\n",
    "df_itin.head(5)"
   ]
  },
  {
   "cell_type": "code",
   "execution_count": 446,
   "metadata": {},
   "outputs": [
    {
     "data": {
      "text/html": [
       "<div>\n",
       "<style>\n",
       "    .dataframe thead tr:only-child th {\n",
       "        text-align: right;\n",
       "    }\n",
       "\n",
       "    .dataframe thead th {\n",
       "        text-align: left;\n",
       "    }\n",
       "\n",
       "    .dataframe tbody tr th {\n",
       "        vertical-align: top;\n",
       "    }\n",
       "</style>\n",
       "<table border=\"1\" class=\"dataframe\">\n",
       "  <thead>\n",
       "    <tr style=\"text-align: right;\">\n",
       "      <th></th>\n",
       "      <th>leg</th>\n",
       "      <th>type</th>\n",
       "      <th>length</th>\n",
       "      <th>fare1</th>\n",
       "      <th>fare2</th>\n",
       "      <th>fare3</th>\n",
       "      <th>capacity</th>\n",
       "    </tr>\n",
       "  </thead>\n",
       "  <tbody>\n",
       "    <tr>\n",
       "      <th>0</th>\n",
       "      <td>(1, 2)</td>\n",
       "      <td>hub-hub</td>\n",
       "      <td>1</td>\n",
       "      <td>243.437466</td>\n",
       "      <td>365.156200</td>\n",
       "      <td>608.593666</td>\n",
       "      <td>3</td>\n",
       "    </tr>\n",
       "    <tr>\n",
       "      <th>1</th>\n",
       "      <td>(1, 3)</td>\n",
       "      <td>hub-hub</td>\n",
       "      <td>1</td>\n",
       "      <td>232.575644</td>\n",
       "      <td>348.863466</td>\n",
       "      <td>581.439110</td>\n",
       "      <td>5</td>\n",
       "    </tr>\n",
       "    <tr>\n",
       "      <th>2</th>\n",
       "      <td>(1, 101)</td>\n",
       "      <td>spoke-hub</td>\n",
       "      <td>1</td>\n",
       "      <td>197.321841</td>\n",
       "      <td>295.982761</td>\n",
       "      <td>493.304602</td>\n",
       "      <td>2</td>\n",
       "    </tr>\n",
       "    <tr>\n",
       "      <th>3</th>\n",
       "      <td>(1, 102)</td>\n",
       "      <td>spoke-hub</td>\n",
       "      <td>1</td>\n",
       "      <td>223.106697</td>\n",
       "      <td>334.660045</td>\n",
       "      <td>557.766742</td>\n",
       "      <td>3</td>\n",
       "    </tr>\n",
       "    <tr>\n",
       "      <th>4</th>\n",
       "      <td>(2, 3)</td>\n",
       "      <td>hub-hub</td>\n",
       "      <td>1</td>\n",
       "      <td>254.175125</td>\n",
       "      <td>381.262688</td>\n",
       "      <td>635.437813</td>\n",
       "      <td>3</td>\n",
       "    </tr>\n",
       "  </tbody>\n",
       "</table>\n",
       "</div>"
      ],
      "text/plain": [
       "        leg       type  length       fare1       fare2       fare3  capacity\n",
       "0    (1, 2)    hub-hub       1  243.437466  365.156200  608.593666         3\n",
       "1    (1, 3)    hub-hub       1  232.575644  348.863466  581.439110         5\n",
       "2  (1, 101)  spoke-hub       1  197.321841  295.982761  493.304602         2\n",
       "3  (1, 102)  spoke-hub       1  223.106697  334.660045  557.766742         3\n",
       "4    (2, 3)    hub-hub       1  254.175125  381.262688  635.437813         3"
      ]
     },
     "execution_count": 446,
     "metadata": {},
     "output_type": "execute_result"
    }
   ],
   "source": [
    "## constructing leg-itinenary matrix\n",
    "itin_path = df_itin.itinenary\n",
    "\n",
    "df_leg = df_itin[df_itin.length == 1]\n",
    "df_leg.reset_index(drop = True, inplace = True)\n",
    "df_leg.rename(columns = {'itinenary': 'leg'}, inplace = True)\n",
    "\n",
    "leg_path = df_leg.leg\n",
    "\n",
    "cap_mean = 0.8\n",
    "cap_var = 0.2\n",
    "\n",
    "def rand_cap(s):\n",
    "    if s == 'hub-hub':\n",
    "        return int(round(np.random.lognormal(cap_mean*1.15, cap_var*1.2)))\n",
    "    else:\n",
    "        return int(round(np.random.lognormal(cap_mean, cap_var)))\n",
    "\n",
    "df_leg['capacity'] = list(map(rand_cap, df_leg.type ))\n",
    "\n",
    "df_leg.head(5)"
   ]
  },
  {
   "cell_type": "code",
   "execution_count": 447,
   "metadata": {},
   "outputs": [
    {
     "data": {
      "text/html": [
       "<div>\n",
       "<style>\n",
       "    .dataframe thead tr:only-child th {\n",
       "        text-align: right;\n",
       "    }\n",
       "\n",
       "    .dataframe thead th {\n",
       "        text-align: left;\n",
       "    }\n",
       "\n",
       "    .dataframe tbody tr th {\n",
       "        vertical-align: top;\n",
       "    }\n",
       "</style>\n",
       "<table border=\"1\" class=\"dataframe\">\n",
       "  <thead>\n",
       "    <tr style=\"text-align: right;\">\n",
       "      <th></th>\n",
       "      <th>itinenary</th>\n",
       "      <th>type</th>\n",
       "      <th>length</th>\n",
       "      <th>fare1</th>\n",
       "      <th>fare2</th>\n",
       "      <th>fare3</th>\n",
       "      <th>(1, 2)</th>\n",
       "      <th>(1, 3)</th>\n",
       "      <th>(1, 101)</th>\n",
       "      <th>(1, 102)</th>\n",
       "      <th>(2, 3)</th>\n",
       "      <th>(2, 201)</th>\n",
       "      <th>(2, 202)</th>\n",
       "      <th>(3, 301)</th>\n",
       "    </tr>\n",
       "  </thead>\n",
       "  <tbody>\n",
       "    <tr>\n",
       "      <th>0</th>\n",
       "      <td>(1, 2)</td>\n",
       "      <td>hub-hub</td>\n",
       "      <td>1</td>\n",
       "      <td>243.437466</td>\n",
       "      <td>365.156200</td>\n",
       "      <td>608.593666</td>\n",
       "      <td>1</td>\n",
       "      <td>0</td>\n",
       "      <td>0</td>\n",
       "      <td>0</td>\n",
       "      <td>0</td>\n",
       "      <td>0</td>\n",
       "      <td>0</td>\n",
       "      <td>0</td>\n",
       "    </tr>\n",
       "    <tr>\n",
       "      <th>1</th>\n",
       "      <td>(1, 3)</td>\n",
       "      <td>hub-hub</td>\n",
       "      <td>1</td>\n",
       "      <td>232.575644</td>\n",
       "      <td>348.863466</td>\n",
       "      <td>581.439110</td>\n",
       "      <td>0</td>\n",
       "      <td>1</td>\n",
       "      <td>0</td>\n",
       "      <td>0</td>\n",
       "      <td>0</td>\n",
       "      <td>0</td>\n",
       "      <td>0</td>\n",
       "      <td>0</td>\n",
       "    </tr>\n",
       "    <tr>\n",
       "      <th>2</th>\n",
       "      <td>(1, 101)</td>\n",
       "      <td>spoke-hub</td>\n",
       "      <td>1</td>\n",
       "      <td>197.321841</td>\n",
       "      <td>295.982761</td>\n",
       "      <td>493.304602</td>\n",
       "      <td>0</td>\n",
       "      <td>0</td>\n",
       "      <td>1</td>\n",
       "      <td>0</td>\n",
       "      <td>0</td>\n",
       "      <td>0</td>\n",
       "      <td>0</td>\n",
       "      <td>0</td>\n",
       "    </tr>\n",
       "    <tr>\n",
       "      <th>3</th>\n",
       "      <td>(1, 102)</td>\n",
       "      <td>spoke-hub</td>\n",
       "      <td>1</td>\n",
       "      <td>223.106697</td>\n",
       "      <td>334.660045</td>\n",
       "      <td>557.766742</td>\n",
       "      <td>0</td>\n",
       "      <td>0</td>\n",
       "      <td>0</td>\n",
       "      <td>1</td>\n",
       "      <td>0</td>\n",
       "      <td>0</td>\n",
       "      <td>0</td>\n",
       "      <td>0</td>\n",
       "    </tr>\n",
       "    <tr>\n",
       "      <th>4</th>\n",
       "      <td>(1, 201)</td>\n",
       "      <td>spoke-hub</td>\n",
       "      <td>2</td>\n",
       "      <td>365.768236</td>\n",
       "      <td>548.652354</td>\n",
       "      <td>914.420590</td>\n",
       "      <td>1</td>\n",
       "      <td>0</td>\n",
       "      <td>0</td>\n",
       "      <td>0</td>\n",
       "      <td>0</td>\n",
       "      <td>1</td>\n",
       "      <td>0</td>\n",
       "      <td>0</td>\n",
       "    </tr>\n",
       "  </tbody>\n",
       "</table>\n",
       "</div>"
      ],
      "text/plain": [
       "  itinenary       type  length       fare1       fare2       fare3  (1, 2)  \\\n",
       "0    (1, 2)    hub-hub       1  243.437466  365.156200  608.593666       1   \n",
       "1    (1, 3)    hub-hub       1  232.575644  348.863466  581.439110       0   \n",
       "2  (1, 101)  spoke-hub       1  197.321841  295.982761  493.304602       0   \n",
       "3  (1, 102)  spoke-hub       1  223.106697  334.660045  557.766742       0   \n",
       "4  (1, 201)  spoke-hub       2  365.768236  548.652354  914.420590       1   \n",
       "\n",
       "   (1, 3)  (1, 101)  (1, 102)  (2, 3)  (2, 201)  (2, 202)  (3, 301)  \n",
       "0       0         0         0       0         0         0         0  \n",
       "1       1         0         0       0         0         0         0  \n",
       "2       0         1         0       0         0         0         0  \n",
       "3       0         0         1       0         0         0         0  \n",
       "4       0         0         0       0         1         0         0  "
      ]
     },
     "execution_count": 447,
     "metadata": {},
     "output_type": "execute_result"
    }
   ],
   "source": [
    "test = itin_path[6]\n",
    "def leg_in_itin(itin, legs):\n",
    "    a = itin[0]\n",
    "    b = itin[1]\n",
    "    \n",
    "    short_paths = nx.shortest_path(nw, a, b)\n",
    "    l1 = []\n",
    "    for i in range(len(short_paths) -1 ):\n",
    "        l1.append((short_paths[i],short_paths[i+1]))\n",
    "        \n",
    "    e = [0]*len(legs)\n",
    "    for j in l1:\n",
    "        e += (j == legs)*1\n",
    "\n",
    "    return e\n",
    "\n",
    "\n",
    "#leg_in_itin(itin_path[0], leg_path)\n",
    "def E_df(leg_path, itin_path):\n",
    "    m = np.matrix(list(map(lambda x: leg_in_itin(x, leg_path), itin_path)))\n",
    "    df = pd.DataFrame(m, index = itin_path, columns = leg_path)\n",
    "    return df\n",
    "df_e = E_df(leg_path, itin_path)\n",
    "df_full = pd.concat([df_itin, df_e.reset_index(drop = True)], axis = 1)\n",
    "df_full.head(5)"
   ]
  },
  {
   "cell_type": "markdown",
   "metadata": {
    "collapsed": true
   },
   "source": [
    "## Linear Program"
   ]
  },
  {
   "cell_type": "markdown",
   "metadata": {},
   "source": [
    "\\begin{equation*}\n",
    "Maximize\n",
    "\\sum_{t \\ \\in \\ T} \n",
    "\\sum_{k \\ \\in \\ K}\n",
    "\\sum_{j \\ \\in \\ J}\n",
    "f_{jk} \\  \n",
    "w_{jkt}\n",
    "\\end{equation*}\n",
    "\n",
    "\\begin{equation*}\n",
    "Subject\\ to:\\ C_i - \n",
    "\\sum_{s \\ \\in \\ T}\n",
    "\\sum_{k \\ \\in \\ K}\n",
    "\\mathbf{1}(s \\leq t)\n",
    "\\sum_{j \\ \\in \\ J}\n",
    "w_{jkt} \\ \n",
    "e_{ji} \n",
    " \\\\ + \n",
    "\\sum_{s \\ \\in \\ T}\n",
    "\\sum_{k \\ \\in \\ K}\n",
    "\\mathbf{1}(s \\leq t - L)\n",
    "(1-p)(1-\\pi)\n",
    "\\sum_{j \\ \\in \\ J}\n",
    "w_{jkt} \\ \n",
    "e_{ji} \n",
    "\\geq 0\n",
    "\\, \n",
    "\\forall \\ i \\ \\in \\ N\n",
    "\\ ,\n",
    "\\forall \\ t \\ \\in \\ T\n",
    "\\\\\n",
    "w_{jkt} \n",
    "\\leq\n",
    "\\lambda_{jkt}\n",
    "\\end{equation*}"
   ]
  },
  {
   "cell_type": "code",
   "execution_count": 535,
   "metadata": {},
   "outputs": [],
   "source": [
    "num_of_time = 10\n",
    "num_of_class = 3\n",
    "num_of_itin = len(itin_path)\n",
    "num_of_leg = len(leg_path)\n",
    "\n",
    "T = list(range(num_of_time))\n",
    "K = list(range(num_of_class))\n",
    "J = list(range(num_of_itin))\n",
    "N = list(range(num_of_leg))\n",
    "\n",
    "## Time to lock\n",
    "L = 3\n",
    "\n",
    "## E[j][i] = 1 if leg i is in itinenary j\n",
    "E = np.array(df_e)\n",
    "\n",
    "## C[i]: Capacity remained on leg i\n",
    "C = list(df_leg.capacity)\n",
    "\n",
    "## p: Probability that a customer purchased a ticket directly\n",
    "## 1 - p: Probability that a customer locked a ticket\n",
    "p = 0.5\n",
    "\n",
    "#pi : Prabability that a customer finally bought the ticket that he locked\n",
    "pi = 0.4\n",
    "\n",
    "#R[j][k]: fare of itinenary j with fare class k\n",
    "R = np.matrix(df_fare)\n",
    "\n",
    "#u: fee for fare-locking\n",
    "u = 20\n",
    "\n",
    "## F[j][k]: expected revenue from itinenary j with fare class k\n",
    "F = np.array(p*R + (1 - p)*(u + pi*R))\n",
    "\n",
    "##lmd[j][k][t]: Probability of a customer interest in itinenary j with fare-class k at time t\n",
    "lmd = [[np.random.uniform(0.2, 1, num_of_time) for i in K] for j in J]\n",
    "\n",
    "##Decision function\n",
    "def one(a):\n",
    "    if a:\n",
    "        return 1\n",
    "    else: \n",
    "        return 0"
   ]
  },
  {
   "cell_type": "code",
   "execution_count": 536,
   "metadata": {},
   "outputs": [],
   "source": [
    "from gurobipy import *"
   ]
  },
  {
   "cell_type": "code",
   "execution_count": 537,
   "metadata": {},
   "outputs": [],
   "source": [
    "model = Model(\"network\")\n",
    "\n",
    "## create decision variables \n",
    "W = [[[ 0 for t in T] for k in K ] for j in J]\n",
    "\n",
    "for t in T:\n",
    "    for k in K:\n",
    "        for j in J:\n",
    "            W[j][k][t] = model.addVar( vtype = GRB.CONTINUOUS, \n",
    "                                        name = \"W_\" + str(j) + \"_\" + str(k) + \"_\" + str(t))\n",
    "            \n",
    "model.update()"
   ]
  },
  {
   "cell_type": "markdown",
   "metadata": {},
   "source": [
    "\\begin{equation*}\n",
    "Maximize\n",
    "\\sum_{t \\ \\in \\ T} \n",
    "\\sum_{k \\ \\in \\ K}\n",
    "\\sum_{j \\ \\in \\ J}\n",
    "f_{jk} \\  \n",
    "w_{jkt}\n",
    "\\end{equation*}\n"
   ]
  },
  {
   "cell_type": "code",
   "execution_count": 538,
   "metadata": {},
   "outputs": [],
   "source": [
    "## create a linear expression of the objective \n",
    "objExpr = LinExpr()\n",
    "for t in T:\n",
    "    for k in K:\n",
    "        for j in J:\n",
    "            objExpr += F[j][k] * W[j][k][t]\n",
    "model.setObjective(objExpr, GRB.MAXIMIZE)"
   ]
  },
  {
   "cell_type": "markdown",
   "metadata": {},
   "source": [
    "\\begin{equation*}\n",
    "\\ C_i - \n",
    "\\sum_{s \\ \\in \\ T}\n",
    "\\sum_{k \\ \\in \\ K}\n",
    "\\mathbf{1}(s \\leq t)\n",
    "\\sum_{j \\ \\in \\ J}\n",
    "w_{jkt} \\ \n",
    "e_{ji} \n",
    "+ \n",
    "\\sum_{s \\ \\in \\ T}\n",
    "\\sum_{k \\ \\in \\ K}\n",
    "\\mathbf{1}(s \\leq t - L)\n",
    "(1-p)(1-\\pi)\n",
    "\\sum_{j \\ \\in \\ J}\n",
    "w_{jkt} \\ \n",
    "e_{ji} \n",
    "\\geq 0\n",
    "\\ , \n",
    "\\forall \\ i \\ \\in \\ N\n",
    "\\ ,\n",
    "\\forall \\ t \\ \\in \\ T\n",
    "\\end{equation*}\n"
   ]
  },
  {
   "cell_type": "code",
   "execution_count": 539,
   "metadata": {},
   "outputs": [],
   "source": [
    "## create constraints for capacity\n",
    "for t in T:\n",
    "    for i in N:\n",
    "        constExpr = LinExpr()\n",
    "        for s in T:\n",
    "            for k in K:\n",
    "                for j in J:\n",
    "                    constExpr += one(s <= t)*W[j][k][t]*E[j][i] + one(s <= t - L)*(1 - p)*(1 - pi)*W[j][k][t]*E[j][i]\n",
    "        model.addConstr(lhs = constExpr, sense = GRB.LESS_EQUAL, rhs = C[i],\n",
    "                        name = 'capacity_on_leg_' + str(i) + 'at_' + str(t))\n",
    "    \n",
    "model.update()"
   ]
  },
  {
   "cell_type": "markdown",
   "metadata": {},
   "source": [
    "\\begin{equation*}\n",
    "w_{jkt} \n",
    "\\leq\n",
    "\\lambda_{jkt}\n",
    "\\end{equation*}"
   ]
  },
  {
   "cell_type": "code",
   "execution_count": 540,
   "metadata": {},
   "outputs": [],
   "source": [
    "## create constraints for W\n",
    "for t in T:\n",
    "    for k in K:\n",
    "        for j in J:\n",
    "            descison_var = LinExpr()\n",
    "            decision_var = W[j][k][t]\n",
    "            \n",
    "            bound = LinExpr()\n",
    "            bound = lmd[j][k][t]\n",
    "            \n",
    "            model.addConstr(lhs = decision_var, sense = GRB.LESS_EQUAL, rhs = bound, \n",
    "                            name = 'prob_' + str(j)  + \"_\" + str(k) + \"_\" + str(t))\n",
    "            \n",
    "model.update()"
   ]
  },
  {
   "cell_type": "code",
   "execution_count": 542,
   "metadata": {},
   "outputs": [],
   "source": [
    "## Write the model in a file\n",
    "model.write(filename = \"testOutput.lp\")"
   ]
  },
  {
   "cell_type": "code",
   "execution_count": 543,
   "metadata": {},
   "outputs": [
    {
     "name": "stdout",
     "output_type": "stream",
     "text": [
      "Optimize a model with 920 rows, 840 columns and 2040 nonzeros\n",
      "Coefficient statistics:\n",
      "  Matrix range     [1e+00, 1e+01]\n",
      "  Objective range  [1e+02, 1e+03]\n",
      "  Bounds range     [0e+00, 0e+00]\n",
      "  RHS range        [2e-01, 5e+00]\n",
      "Presolve removed 884 rows and 624 columns\n",
      "Presolve time: 0.01s\n",
      "Presolved: 36 rows, 216 columns, 303 nonzeros\n",
      "\n",
      "Iteration    Objective       Primal Inf.    Dual Inf.      Time\n",
      "       0    4.2230349e+04   4.535517e+01   0.000000e+00      0s\n",
      "      29    2.8655204e+04   0.000000e+00   0.000000e+00      0s\n",
      "\n",
      "Solved in 29 iterations and 0.01 seconds\n",
      "Optimal objective  2.865520400e+04\n"
     ]
    }
   ],
   "source": [
    "## print optimal ojective and optimal solution\n",
    "model.optimize()"
   ]
  },
  {
   "cell_type": "code",
   "execution_count": 547,
   "metadata": {},
   "outputs": [
    {
     "name": "stdout",
     "output_type": "stream",
     "text": [
      "\n",
      "Optimal Objedctive: 28655.20399649181\n",
      "\n",
      "Optimal Solution(first 10):\n",
      "W_0_0_0 0.0\n",
      "W_1_0_0 0.8397636063459617\n",
      "W_2_0_0 0.0\n",
      "W_3_0_0 0.0\n",
      "W_4_0_0 0.0\n",
      "W_5_0_0 0.0\n",
      "W_6_0_0 0.0\n",
      "W_7_0_0 0.6916981700599296\n",
      "W_8_0_0 0.0\n",
      "W_9_0_0 0.0\n"
     ]
    }
   ],
   "source": [
    "## print optimal objective and optimal solution\n",
    "print(\"\\nOptimal Objedctive: \" + str(model.Objval))\n",
    "print(\"\\nOptimal Solution(first 10):\")\n",
    "allVars = model.getVars()\n",
    "for curVar in allVars[:10]:\n",
    "    print(curVar.varname + \" \" + str(curVar.x))"
   ]
  }
 ],
 "metadata": {
  "kernelspec": {
   "display_name": "Python 3",
   "language": "python",
   "name": "python3"
  },
  "language_info": {
   "codemirror_mode": {
    "name": "ipython",
    "version": 3
   },
   "file_extension": ".py",
   "mimetype": "text/x-python",
   "name": "python",
   "nbconvert_exporter": "python",
   "pygments_lexer": "ipython3",
   "version": "3.6.1"
  }
 },
 "nbformat": 4,
 "nbformat_minor": 2
}
