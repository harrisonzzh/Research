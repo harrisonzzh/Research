{
 "cells": [
  {
   "cell_type": "markdown",
   "metadata": {},
   "source": [
    "## Network Simulation"
   ]
  },
  {
   "cell_type": "code",
   "execution_count": 13,
   "metadata": {
    "collapsed": true
   },
   "outputs": [],
   "source": [
    "import networkx as nx\n",
    "import numpy as np\n",
    "import matplotlib.pyplot as plt\n",
    "import itertools as itr\n",
    "import warnings \n",
    "import seaborn as sns\n",
    "import scipy as sp\n",
    "from math import floor\n",
    "%matplotlib inline\n",
    "warnings.filterwarnings('ignore')"
   ]
  },
  {
   "cell_type": "code",
   "execution_count": 14,
   "metadata": {},
   "outputs": [
    {
     "data": {
      "image/png": "[encoded data removed]",
      "text/plain": [
       "<matplotlib.figure.Figure at 0x10fe784e0>"
      ]
     },
     "metadata": {},
     "output_type": "display_data"
    }
   ],
   "source": [
    "def draw_nw(num_of_hub, exp_spoke):\n",
    "    \n",
    "    num_of_spoke = np.random.normal(exp_spoke,1,num_of_hub)\n",
    "    num_of_spoke = list(map(round, num_of_spoke))\n",
    "    hub = list(range(1,num_of_hub+1))\n",
    "\n",
    "    nw = nx.Graph()\n",
    "    nw.add_nodes_from(hub, label = \"Hub\")\n",
    "    hub_edges = np.array(list(itr.combinations(hub,2)))\n",
    "    nw.add_edges_from(hub_edges, label = \"Hub_edges\")\n",
    "\n",
    "\n",
    "    ##Assuming that customers cannot fly from a spoke to a spoke directly. They have to stop at a hub. \n",
    "\n",
    "    for i, h in enumerate(hub):\n",
    "        num_of_s = int(num_of_spoke[i])\n",
    "        spokes = [(h*100 + a) for a in range(1,num_of_s+1)]\n",
    "        nw.add_nodes_from(spokes, label = \"spokes of hub \" + str(h) )\n",
    "        edge_to_hub = [(h, s) for s in spokes ]\n",
    "        nw.add_edges_from(edge_to_hub, label = \"Spoke_edges\" )\n",
    "        \n",
    "    return nw\n",
    "nw = draw_nw(2,1)    \n",
    "plt.figure(figsize = (14,10))\n",
    "nx.draw_networkx(nw)\n",
    "plt.show()"
   ]
  },
  {
   "cell_type": "markdown",
   "metadata": {},
   "source": [
    "## Network Dataset Constructing"
   ]
  },
  {
   "cell_type": "code",
   "execution_count": 15,
   "metadata": {
    "collapsed": true
   },
   "outputs": [],
   "source": [
    "itin = np.array(list(itr.combinations(nx.nodes(nw),2)))"
   ]
  },
  {
   "cell_type": "code",
   "execution_count": 16,
   "metadata": {},
   "outputs": [
    {
     "data": {
      "text/html": [
       "<div>\n",
       "<style>\n",
       "    .dataframe thead tr:only-child th {\n",
       "        text-align: right;\n",
       "    }\n",
       "\n",
       "    .dataframe thead th {\n",
       "        text-align: left;\n",
       "    }\n",
       "\n",
       "    .dataframe tbody tr th {\n",
       "        vertical-align: top;\n",
       "    }\n",
       "</style>\n",
       "<table border=\"1\" class=\"dataframe\">\n",
       "  <thead>\n",
       "    <tr style=\"text-align: right;\">\n",
       "      <th></th>\n",
       "      <th>itinenary</th>\n",
       "    </tr>\n",
       "  </thead>\n",
       "  <tbody>\n",
       "    <tr>\n",
       "      <th>0</th>\n",
       "      <td>(1, 2)</td>\n",
       "    </tr>\n",
       "    <tr>\n",
       "      <th>1</th>\n",
       "      <td>(1, 101)</td>\n",
       "    </tr>\n",
       "    <tr>\n",
       "      <th>2</th>\n",
       "      <td>(1, 102)</td>\n",
       "    </tr>\n",
       "    <tr>\n",
       "      <th>3</th>\n",
       "      <td>(1, 103)</td>\n",
       "    </tr>\n",
       "    <tr>\n",
       "      <th>4</th>\n",
       "      <td>(1, 201)</td>\n",
       "    </tr>\n",
       "  </tbody>\n",
       "</table>\n",
       "</div>"
      ],
      "text/plain": [
       "  itinenary\n",
       "0    (1, 2)\n",
       "1  (1, 101)\n",
       "2  (1, 102)\n",
       "3  (1, 103)\n",
       "4  (1, 201)"
      ]
     },
     "execution_count": 16,
     "metadata": {},
     "output_type": "execute_result"
    }
   ],
   "source": [
    "import pandas as pd\n",
    "df_itin = pd.DataFrame({'itinenary': list(map(tuple, itin))})\n",
    "df_itin.head(5)"
   ]
  },
  {
   "cell_type": "code",
   "execution_count": 17,
   "metadata": {
    "collapsed": true
   },
   "outputs": [],
   "source": [
    "def clr(tup):\n",
    "    a = tup[0]\n",
    "    b = tup[1]\n",
    "    if (a < 100 and b>= 100) or (a >= 100 and b < 100):\n",
    "        return 'spoke-hub'\n",
    "    elif a < 100 and b < 100:\n",
    "        return 'hub-hub'\n",
    "    elif a >= 100 and b >= 100:\n",
    "        return 'spoke-spoke'"
   ]
  },
  {
   "cell_type": "code",
   "execution_count": 18,
   "metadata": {
    "collapsed": true
   },
   "outputs": [],
   "source": [
    "itin_type = list(map(clr, df_itin['itinenary']))\n",
    "df_itin['type'] = itin_type"
   ]
  },
  {
   "cell_type": "code",
   "execution_count": 19,
   "metadata": {
    "collapsed": true
   },
   "outputs": [],
   "source": [
    "def path_len(G, tup):\n",
    "    a = tup[0]\n",
    "    b = tup[1]\n",
    "    return nx.shortest_path_length(G,a,b)\n",
    "\n",
    "paths = list(map(lambda x: path_len(nw, x), df_itin['itinenary']))"
   ]
  },
  {
   "cell_type": "code",
   "execution_count": 20,
   "metadata": {
    "collapsed": true
   },
   "outputs": [],
   "source": [
    "df_itin['length'] = paths"
   ]
  },
  {
   "cell_type": "code",
   "execution_count": 21,
   "metadata": {
    "collapsed": true
   },
   "outputs": [],
   "source": [
    "def price(row):\n",
    "    #hub to spoke\n",
    "    h_s_mean = 0.7\n",
    "    h_s_var = 0.08\n",
    "    \n",
    "    #spoke to hub to spoke\n",
    "    s_h1_s_mean = 0.9\n",
    "    s_h1_s_var = 0.08\n",
    "    \n",
    "    #hub to hub\n",
    "    h_h_mean = 1.0\n",
    "    h_h_var = 0.1\n",
    "\n",
    "    #hub to hub to spoke\n",
    "    h_h_s_mean = 1.3\n",
    "    h_h_s_var = 0.1\n",
    "    \n",
    "    #spoke to hub to hub to spoke\n",
    "    s_h2_s_mean = 1.5\n",
    "    s_h2_s_var = 0.1\n",
    "     \n",
    "    \n",
    "    if row[1] == 'hub-hub':\n",
    "        return np.random.lognormal(h_h_mean, h_h_var)*100\n",
    "    elif row[2] == 2 and row[1] == 'spoke-spoke':\n",
    "        return np.random.lognormal(s_h1_s_mean, s_h1_s_var)*100\n",
    "    elif row[2] == 2 and row[1] == 'spoke-hub':\n",
    "        return np.random.lognormal(h_h_s_mean, h_h_s_var)*100\n",
    "    elif row[1] == 'spoke-hub':\n",
    "        return np.random.lognormal(h_s_mean, h_s_var)*100\n",
    "    elif row[2] == 3:\n",
    "        return np.random.lognormal(s_h2_s_mean, s_h2_s_var)*100\n",
    "    \n",
    "    "
   ]
  },
  {
   "cell_type": "code",
   "execution_count": 22,
   "metadata": {
    "collapsed": true
   },
   "outputs": [],
   "source": [
    "df_itin['fare1'] = df_itin.apply(price, axis = 1)"
   ]
  },
  {
   "cell_type": "code",
   "execution_count": 23,
   "metadata": {},
   "outputs": [
    {
     "name": "stdout",
     "output_type": "stream",
     "text": [
      "The average fare (class1) of a hub to spoke is  196.66\n",
      "The average fare (class1) of a spoke to hub to spoke is  238.37\n",
      "The average fare (class1) of a hub to hub is  270.14\n",
      "The average fare (class1) of a hub to hub to spoke is  373.42\n",
      "The average fare (class1) of a spoke to hub to hub to spoke is  459.07\n"
     ]
    }
   ],
   "source": [
    "s_h2_s = df_itin[df_itin.type == 'spoke-spoke'][df_itin.length == 3].fare1.mean()\n",
    "s_h1_s = df_itin[df_itin.type == 'spoke-spoke'][df_itin.length == 2].fare1.mean()\n",
    "h_s = df_itin[df_itin.type == 'spoke-hub'][df_itin.length == 1].fare1.mean()\n",
    "h_h_s = df_itin[df_itin.type == 'spoke-hub'][df_itin.length == 2].fare1.mean()\n",
    "h_h = df_itin[(df_itin.type == 'hub-hub')].fare1.mean()\n",
    "\n",
    "print('The average fare (class1) of a hub to spoke is ', round(h_s, 2))\n",
    "print('The average fare (class1) of a spoke to hub to spoke is ', round(s_h1_s, 2))\n",
    "print('The average fare (class1) of a hub to hub is ', round(h_h, 2))\n",
    "print('The average fare (class1) of a hub to hub to spoke is ', round(h_h_s, 2))\n",
    "print('The average fare (class1) of a spoke to hub to hub to spoke is ', round(s_h2_s, 2))\n",
    "\n"
   ]
  },
  {
   "cell_type": "code",
   "execution_count": 24,
   "metadata": {},
   "outputs": [
    {
     "data": {
      "text/plain": [
       "<matplotlib.axes._subplots.AxesSubplot at 0x10fe741d0>"
      ]
     },
     "execution_count": 24,
     "metadata": {},
     "output_type": "execute_result"
    },
    {
     "data": {
      "image/png": "[encoded data removed]",
      "text/plain": [
       "<matplotlib.figure.Figure at 0x112bba208>"
      ]
     },
     "metadata": {},
     "output_type": "display_data"
    }
   ],
   "source": [
    "## Plot the price distritbution\n",
    "sns.distplot(df_itin[df_itin.type == 'spoke-spoke'][df_itin.length == 3].fare1)"
   ]
  },
  {
   "cell_type": "code",
   "execution_count": 25,
   "metadata": {},
   "outputs": [
    {
     "data": {
      "text/html": [
       "<div>\n",
       "<style>\n",
       "    .dataframe thead tr:only-child th {\n",
       "        text-align: right;\n",
       "    }\n",
       "\n",
       "    .dataframe thead th {\n",
       "        text-align: left;\n",
       "    }\n",
       "\n",
       "    .dataframe tbody tr th {\n",
       "        vertical-align: top;\n",
       "    }\n",
       "</style>\n",
       "<table border=\"1\" class=\"dataframe\">\n",
       "  <thead>\n",
       "    <tr style=\"text-align: right;\">\n",
       "      <th></th>\n",
       "      <th>itinenary</th>\n",
       "      <th>type</th>\n",
       "      <th>length</th>\n",
       "      <th>fare1</th>\n",
       "      <th>fare2</th>\n",
       "      <th>fare3</th>\n",
       "    </tr>\n",
       "  </thead>\n",
       "  <tbody>\n",
       "    <tr>\n",
       "      <th>0</th>\n",
       "      <td>(1, 2)</td>\n",
       "      <td>hub-hub</td>\n",
       "      <td>1</td>\n",
       "      <td>270.138287</td>\n",
       "      <td>405.207431</td>\n",
       "      <td>675.345718</td>\n",
       "    </tr>\n",
       "    <tr>\n",
       "      <th>1</th>\n",
       "      <td>(1, 101)</td>\n",
       "      <td>spoke-hub</td>\n",
       "      <td>1</td>\n",
       "      <td>203.326484</td>\n",
       "      <td>304.989727</td>\n",
       "      <td>508.316211</td>\n",
       "    </tr>\n",
       "    <tr>\n",
       "      <th>2</th>\n",
       "      <td>(1, 102)</td>\n",
       "      <td>spoke-hub</td>\n",
       "      <td>1</td>\n",
       "      <td>181.467144</td>\n",
       "      <td>272.200716</td>\n",
       "      <td>453.667861</td>\n",
       "    </tr>\n",
       "    <tr>\n",
       "      <th>3</th>\n",
       "      <td>(1, 103)</td>\n",
       "      <td>spoke-hub</td>\n",
       "      <td>1</td>\n",
       "      <td>203.344692</td>\n",
       "      <td>305.017037</td>\n",
       "      <td>508.361729</td>\n",
       "    </tr>\n",
       "    <tr>\n",
       "      <th>4</th>\n",
       "      <td>(1, 201)</td>\n",
       "      <td>spoke-hub</td>\n",
       "      <td>2</td>\n",
       "      <td>348.564525</td>\n",
       "      <td>522.846787</td>\n",
       "      <td>871.411312</td>\n",
       "    </tr>\n",
       "  </tbody>\n",
       "</table>\n",
       "</div>"
      ],
      "text/plain": [
       "  itinenary       type  length       fare1       fare2       fare3\n",
       "0    (1, 2)    hub-hub       1  270.138287  405.207431  675.345718\n",
       "1  (1, 101)  spoke-hub       1  203.326484  304.989727  508.316211\n",
       "2  (1, 102)  spoke-hub       1  181.467144  272.200716  453.667861\n",
       "3  (1, 103)  spoke-hub       1  203.344692  305.017037  508.361729\n",
       "4  (1, 201)  spoke-hub       2  348.564525  522.846787  871.411312"
      ]
     },
     "execution_count": 25,
     "metadata": {},
     "output_type": "execute_result"
    }
   ],
   "source": [
    "df_itin['fare2'] = df_itin['fare1']*1.5\n",
    "df_itin['fare3'] = df_itin['fare1']*2.5\n",
    "\n",
    "df_fare = df_itin[['fare1', 'fare2', 'fare3']]\n",
    "df_itin.head(5)"
   ]
  },
  {
   "cell_type": "code",
   "execution_count": 26,
   "metadata": {
    "collapsed": true
   },
   "outputs": [],
   "source": [
    "## constructing leg-itinenary matrix\n",
    "itin_path = df_itin.itinenary\n",
    "\n",
    "df_leg = df_itin[df_itin.length == 1]\n",
    "df_leg.reset_index(drop = True, inplace = True)\n",
    "df_leg.rename(columns = {'itinenary': 'leg'}, inplace = True)\n",
    "\n",
    "leg_path = df_leg.leg"
   ]
  },
  {
   "cell_type": "code",
   "execution_count": 27,
   "metadata": {
    "collapsed": true
   },
   "outputs": [],
   "source": [
    "test = itin_path[6]\n",
    "def leg_in_itin(itin, legs):\n",
    "    a = itin[0]\n",
    "    b = itin[1]\n",
    "    \n",
    "    short_paths = nx.shortest_path(nw, a, b)\n",
    "    l1 = []\n",
    "    for i in range(len(short_paths) -1 ):\n",
    "        l1.append((short_paths[i],short_paths[i+1]))\n",
    "        \n",
    "    e = [0]*len(legs)\n",
    "    for j in l1:\n",
    "        e += (j == legs)*1\n",
    "\n",
    "    return e\n",
    "\n",
    "\n",
    "#leg_in_itin(itin_path[0], leg_path)\n",
    "def E_df(leg_path, itin_path):\n",
    "    m = np.matrix(list(map(lambda x: leg_in_itin(x, leg_path), itin_path)))\n",
    "    df = pd.DataFrame(m, index = itin_path, columns = leg_path)\n",
    "    return df\n",
    "df_e = E_df(leg_path, itin_path)\n",
    "df_full = pd.concat([df_itin, df_e.reset_index(drop = True)], axis = 1)"
   ]
  },
  {
   "cell_type": "markdown",
   "metadata": {},
   "source": [
    "### Dataset notations: \n",
    "Columns：\n",
    "- Itinenary: list of all itinenaries between every two nodes in the network\n",
    "- Type: <br>\n",
    "hub-hub -> itinenaries between two hubs <br>\n",
    "spoke-hub -> itinenaries between two spoke and hub <br>\n",
    "spoke-spoke -> itinenaries between two spokes <br>\n",
    "- Fare i: Ticket Price for fare class i\n",
    "- Flight legs (0-1 matrix): = 1 if leg i in itinenary j, and = 0, otherwise. "
   ]
  },
  {
   "cell_type": "code",
   "execution_count": 28,
   "metadata": {},
   "outputs": [
    {
     "data": {
      "text/html": [
       "<div>\n",
       "<style>\n",
       "    .dataframe thead tr:only-child th {\n",
       "        text-align: right;\n",
       "    }\n",
       "\n",
       "    .dataframe thead th {\n",
       "        text-align: left;\n",
       "    }\n",
       "\n",
       "    .dataframe tbody tr th {\n",
       "        vertical-align: top;\n",
       "    }\n",
       "</style>\n",
       "<table border=\"1\" class=\"dataframe\">\n",
       "  <thead>\n",
       "    <tr style=\"text-align: right;\">\n",
       "      <th></th>\n",
       "      <th>itinenary</th>\n",
       "      <th>type</th>\n",
       "      <th>length</th>\n",
       "      <th>fare1</th>\n",
       "      <th>fare2</th>\n",
       "      <th>fare3</th>\n",
       "      <th>(1, 2)</th>\n",
       "      <th>(1, 101)</th>\n",
       "      <th>(1, 102)</th>\n",
       "      <th>(1, 103)</th>\n",
       "      <th>(2, 201)</th>\n",
       "    </tr>\n",
       "  </thead>\n",
       "  <tbody>\n",
       "    <tr>\n",
       "      <th>0</th>\n",
       "      <td>(1, 2)</td>\n",
       "      <td>hub-hub</td>\n",
       "      <td>1</td>\n",
       "      <td>270.138287</td>\n",
       "      <td>405.207431</td>\n",
       "      <td>675.345718</td>\n",
       "      <td>1</td>\n",
       "      <td>0</td>\n",
       "      <td>0</td>\n",
       "      <td>0</td>\n",
       "      <td>0</td>\n",
       "    </tr>\n",
       "    <tr>\n",
       "      <th>1</th>\n",
       "      <td>(1, 101)</td>\n",
       "      <td>spoke-hub</td>\n",
       "      <td>1</td>\n",
       "      <td>203.326484</td>\n",
       "      <td>304.989727</td>\n",
       "      <td>508.316211</td>\n",
       "      <td>0</td>\n",
       "      <td>1</td>\n",
       "      <td>0</td>\n",
       "      <td>0</td>\n",
       "      <td>0</td>\n",
       "    </tr>\n",
       "    <tr>\n",
       "      <th>2</th>\n",
       "      <td>(1, 102)</td>\n",
       "      <td>spoke-hub</td>\n",
       "      <td>1</td>\n",
       "      <td>181.467144</td>\n",
       "      <td>272.200716</td>\n",
       "      <td>453.667861</td>\n",
       "      <td>0</td>\n",
       "      <td>0</td>\n",
       "      <td>1</td>\n",
       "      <td>0</td>\n",
       "      <td>0</td>\n",
       "    </tr>\n",
       "    <tr>\n",
       "      <th>3</th>\n",
       "      <td>(1, 103)</td>\n",
       "      <td>spoke-hub</td>\n",
       "      <td>1</td>\n",
       "      <td>203.344692</td>\n",
       "      <td>305.017037</td>\n",
       "      <td>508.361729</td>\n",
       "      <td>0</td>\n",
       "      <td>0</td>\n",
       "      <td>0</td>\n",
       "      <td>1</td>\n",
       "      <td>0</td>\n",
       "    </tr>\n",
       "    <tr>\n",
       "      <th>4</th>\n",
       "      <td>(1, 201)</td>\n",
       "      <td>spoke-hub</td>\n",
       "      <td>2</td>\n",
       "      <td>348.564525</td>\n",
       "      <td>522.846787</td>\n",
       "      <td>871.411312</td>\n",
       "      <td>1</td>\n",
       "      <td>0</td>\n",
       "      <td>0</td>\n",
       "      <td>0</td>\n",
       "      <td>1</td>\n",
       "    </tr>\n",
       "    <tr>\n",
       "      <th>5</th>\n",
       "      <td>(2, 101)</td>\n",
       "      <td>spoke-hub</td>\n",
       "      <td>2</td>\n",
       "      <td>374.662924</td>\n",
       "      <td>561.994386</td>\n",
       "      <td>936.657309</td>\n",
       "      <td>0</td>\n",
       "      <td>1</td>\n",
       "      <td>0</td>\n",
       "      <td>0</td>\n",
       "      <td>0</td>\n",
       "    </tr>\n",
       "    <tr>\n",
       "      <th>6</th>\n",
       "      <td>(2, 102)</td>\n",
       "      <td>spoke-hub</td>\n",
       "      <td>2</td>\n",
       "      <td>384.067206</td>\n",
       "      <td>576.100809</td>\n",
       "      <td>960.168015</td>\n",
       "      <td>0</td>\n",
       "      <td>0</td>\n",
       "      <td>1</td>\n",
       "      <td>0</td>\n",
       "      <td>0</td>\n",
       "    </tr>\n",
       "    <tr>\n",
       "      <th>7</th>\n",
       "      <td>(2, 103)</td>\n",
       "      <td>spoke-hub</td>\n",
       "      <td>2</td>\n",
       "      <td>386.385776</td>\n",
       "      <td>579.578664</td>\n",
       "      <td>965.964440</td>\n",
       "      <td>0</td>\n",
       "      <td>0</td>\n",
       "      <td>0</td>\n",
       "      <td>1</td>\n",
       "      <td>0</td>\n",
       "    </tr>\n",
       "  </tbody>\n",
       "</table>\n",
       "</div>"
      ],
      "text/plain": [
       "  itinenary       type  length       fare1       fare2       fare3  (1, 2)  \\\n",
       "0    (1, 2)    hub-hub       1  270.138287  405.207431  675.345718       1   \n",
       "1  (1, 101)  spoke-hub       1  203.326484  304.989727  508.316211       0   \n",
       "2  (1, 102)  spoke-hub       1  181.467144  272.200716  453.667861       0   \n",
       "3  (1, 103)  spoke-hub       1  203.344692  305.017037  508.361729       0   \n",
       "4  (1, 201)  spoke-hub       2  348.564525  522.846787  871.411312       1   \n",
       "5  (2, 101)  spoke-hub       2  374.662924  561.994386  936.657309       0   \n",
       "6  (2, 102)  spoke-hub       2  384.067206  576.100809  960.168015       0   \n",
       "7  (2, 103)  spoke-hub       2  386.385776  579.578664  965.964440       0   \n",
       "\n",
       "   (1, 101)  (1, 102)  (1, 103)  (2, 201)  \n",
       "0         0         0         0         0  \n",
       "1         1         0         0         0  \n",
       "2         0         1         0         0  \n",
       "3         0         0         1         0  \n",
       "4         0         0         0         1  \n",
       "5         1         0         0         0  \n",
       "6         0         1         0         0  \n",
       "7         0         0         1         0  "
      ]
     },
     "execution_count": 28,
     "metadata": {},
     "output_type": "execute_result"
    }
   ],
   "source": [
    "df_full.head(8)"
   ]
  },
  {
   "cell_type": "markdown",
   "metadata": {
    "collapsed": true
   },
   "source": [
    "## Linear Program"
   ]
  },
  {
   "cell_type": "markdown",
   "metadata": {},
   "source": [
    "\\begin{equation*}\n",
    "Maximize\n",
    "\\sum_{t \\ \\in \\ T} \n",
    "\\sum_{k \\ \\in \\ K}\n",
    "\\sum_{j \\ \\in \\ J}\n",
    "f_{jk} \\  \n",
    "w_{jkt}\n",
    "\\end{equation*}\n",
    "\n",
    "\\begin{equation*}\n",
    "Subject\\ to:\\ C_i - \n",
    "\\sum_{s \\ \\in \\ T}\n",
    "\\sum_{k \\ \\in \\ K}\n",
    "\\mathbf{1}(s \\leq t)\n",
    "\\sum_{j \\ \\in \\ J}\n",
    "w_{jkt} \\ \n",
    "e_{ji} \n",
    " \\\\ + \n",
    "\\sum_{s \\ \\in \\ T}\n",
    "\\sum_{k \\ \\in \\ K}\n",
    "\\mathbf{1}(s \\leq t - L)\n",
    "(1-p)(1-\\pi)\n",
    "\\sum_{j \\ \\in \\ J}\n",
    "w_{jkt} \\ \n",
    "e_{ji} \n",
    "\\geq 0\n",
    "\\, \n",
    "\\forall \\ i \\ \\in \\ N\n",
    "\\ ,\n",
    "\\forall \\ t \\ \\in \\ T\n",
    "\\\\\n",
    "w_{jkt} \n",
    "\\leq\n",
    "\\lambda_{jkt}\n",
    "\\\\\n",
    "\\sum_{j \\ \\in J}\n",
    "\\sum_{k \\ \\in K}\n",
    "\\lambda_{jkt} = 1\n",
    "\\\\\n",
    "f_{jk} = p\\ r_{jk} + (1 - p)\\ (u + \\pi\\ r_{jk})\n",
    "\\end{equation*}"
   ]
  },
  {
   "cell_type": "markdown",
   "metadata": {},
   "source": [
    "$f_{jk}:$ The expected revenue from itinenary j for fare class j. <br>\n",
    "$w_{jkt}:$ (Decision variable) The probability that we will accept a request for itinenary j with fare class k at time t. <br>\n",
    "$e_{ji}:$ If flight leg i in itinenary j, $e_{ji}$ = 1. Otherwise, $e_{ji}$ = 0 <br>\n",
    "$C_{i}:$ Capacity of flight leg i. <br>\n",
    "$\\mathbf{1}:$ Decision function. $\\mathbf{1}(a)$ = 1 if $a \\leq 0$. $\\mathbf{1}(a)$ = 0, otherwise. <br>\n",
    "$\\lambda_{jkt}$: The probability that a customer is insterest in itinenary j with fare class k at time t. <br>\n",
    "$r_{jk}$: Ticket price for itinenary j with fare class k <br>\n",
    "\n",
    "$T:$ All the time periods. <br>\n",
    "$K:$ All the fare classes. <br>\n",
    "$J:$ All the itinenaries. <br>\n",
    "$N:$ All the flight legs. <br>\n",
    "$L:$ The time a customer can lock for the fare. <br>\n",
    "$p:$ Probability that a customer purchased a ticket directly. <br>\n",
    "$1 - p:$ Probability that a customer locked a ticket. <br>\n",
    "$\\pi :$ Prabability that a customer finally bought the ticket that he locked <br>"
   ]
  },
  {
   "cell_type": "code",
   "execution_count": 29,
   "metadata": {
    "collapsed": true
   },
   "outputs": [],
   "source": [
    "## Assuming only one customer in each time interval\n",
    "num_of_time = 20\n",
    "num_of_class = 3\n",
    "num_of_itin = len(itin_path)\n",
    "num_of_leg = len(leg_path)\n",
    "\n",
    "T = list(range(num_of_time))\n",
    "K = list(range(num_of_class))\n",
    "J = list(range(num_of_itin))\n",
    "N = list(range(num_of_leg))\n",
    "\n",
    "## Time to lock\n",
    "L = floor(num_of_time*0.1)\n",
    "\n",
    "## E[j][i] = 1 if leg i is in itinenary j\n",
    "E = np.array(df_e)\n",
    "\n",
    "## p: Probability that a customer purchased a ticket directly\n",
    "## 1 - p: Probability that a customer locked a ticket\n",
    "p = 0.5\n",
    "\n",
    "#pi : Prabability that a customer finally bought the ticket that he locked\n",
    "pi = 0.8\n",
    "\n",
    "#R[j][k]: fare of itinenary j with fare class k\n",
    "R = np.matrix(df_fare)\n",
    "\n",
    "#u: fee for fare-locking\n",
    "u = 20\n",
    "\n",
    "## F[j][k]: expected revenue from itinenary j with fare class k\n",
    "F = np.array(p*R + (1 - p)*(u + pi*R))\n",
    "\n",
    "##lmd[j][k][t]: Probability of a customer interest in itinenary j with fare-class k at time t\n",
    "##each time period, only one customer coming in interested in one itinenary and one class.   \n",
    "lmd = np.array([[np.random.uniform(0.2, 1, num_of_time) for i in K] for j in J])\n",
    "\n",
    "##Decision function\n",
    "def one(a):\n",
    "    if a:\n",
    "        return 1\n",
    "    else: \n",
    "        return 0"
   ]
  },
  {
   "cell_type": "code",
   "execution_count": 30,
   "metadata": {},
   "outputs": [
    {
     "data": {
      "text/plain": [
       "1.0"
      ]
     },
     "execution_count": 30,
     "metadata": {},
     "output_type": "execute_result"
    }
   ],
   "source": [
    "for t in T:\n",
    "    s = lmd.sum(axis = 0).sum(axis = 0)[t]\n",
    "    lmd[:,:,t] = lmd[:,:,t]/s\n",
    "##check \n",
    "lmd.sum(axis = 0).sum(axis = 0)[5]"
   ]
  },
  {
   "cell_type": "code",
   "execution_count": 31,
   "metadata": {
    "collapsed": true
   },
   "outputs": [],
   "source": [
    "##Calculate ideal capacity\n",
    "I = list(range(num_of_leg))\n",
    "def idea_capa(i):\n",
    "    I_i = 0\n",
    "    for t in T:\n",
    "        for j in J:\n",
    "            for k in K:\n",
    "                I_i += E[j][i]*lmd[j][k][t]\n",
    "    return I_i\n",
    "I = np.array(list(map(idea_capa, I)))     "
   ]
  },
  {
   "cell_type": "code",
   "execution_count": 32,
   "metadata": {},
   "outputs": [
    {
     "data": {
      "text/html": [
       "<div>\n",
       "<style>\n",
       "    .dataframe thead tr:only-child th {\n",
       "        text-align: right;\n",
       "    }\n",
       "\n",
       "    .dataframe thead th {\n",
       "        text-align: left;\n",
       "    }\n",
       "\n",
       "    .dataframe tbody tr th {\n",
       "        vertical-align: top;\n",
       "    }\n",
       "</style>\n",
       "<table border=\"1\" class=\"dataframe\">\n",
       "  <thead>\n",
       "    <tr style=\"text-align: right;\">\n",
       "      <th></th>\n",
       "      <th>leg</th>\n",
       "      <th>type</th>\n",
       "      <th>length</th>\n",
       "      <th>fare1</th>\n",
       "      <th>fare2</th>\n",
       "      <th>fare3</th>\n",
       "      <th>capacity</th>\n",
       "    </tr>\n",
       "  </thead>\n",
       "  <tbody>\n",
       "    <tr>\n",
       "      <th>0</th>\n",
       "      <td>(1, 2)</td>\n",
       "      <td>hub-hub</td>\n",
       "      <td>1</td>\n",
       "      <td>270.138287</td>\n",
       "      <td>405.207431</td>\n",
       "      <td>675.345718</td>\n",
       "      <td>3</td>\n",
       "    </tr>\n",
       "    <tr>\n",
       "      <th>1</th>\n",
       "      <td>(1, 101)</td>\n",
       "      <td>spoke-hub</td>\n",
       "      <td>1</td>\n",
       "      <td>203.326484</td>\n",
       "      <td>304.989727</td>\n",
       "      <td>508.316211</td>\n",
       "      <td>1</td>\n",
       "    </tr>\n",
       "    <tr>\n",
       "      <th>2</th>\n",
       "      <td>(1, 102)</td>\n",
       "      <td>spoke-hub</td>\n",
       "      <td>1</td>\n",
       "      <td>181.467144</td>\n",
       "      <td>272.200716</td>\n",
       "      <td>453.667861</td>\n",
       "      <td>2</td>\n",
       "    </tr>\n",
       "    <tr>\n",
       "      <th>3</th>\n",
       "      <td>(1, 103)</td>\n",
       "      <td>spoke-hub</td>\n",
       "      <td>1</td>\n",
       "      <td>203.344692</td>\n",
       "      <td>305.017037</td>\n",
       "      <td>508.361729</td>\n",
       "      <td>2</td>\n",
       "    </tr>\n",
       "    <tr>\n",
       "      <th>4</th>\n",
       "      <td>(2, 201)</td>\n",
       "      <td>spoke-hub</td>\n",
       "      <td>1</td>\n",
       "      <td>198.487556</td>\n",
       "      <td>297.731333</td>\n",
       "      <td>496.218889</td>\n",
       "      <td>3</td>\n",
       "    </tr>\n",
       "  </tbody>\n",
       "</table>\n",
       "</div>"
      ],
      "text/plain": [
       "        leg       type  length       fare1       fare2       fare3  capacity\n",
       "0    (1, 2)    hub-hub       1  270.138287  405.207431  675.345718         3\n",
       "1  (1, 101)  spoke-hub       1  203.326484  304.989727  508.316211         1\n",
       "2  (1, 102)  spoke-hub       1  181.467144  272.200716  453.667861         2\n",
       "3  (1, 103)  spoke-hub       1  203.344692  305.017037  508.361729         2\n",
       "4  (2, 201)  spoke-hub       1  198.487556  297.731333  496.218889         3"
      ]
     },
     "execution_count": 32,
     "metadata": {},
     "output_type": "execute_result"
    }
   ],
   "source": [
    "##Calculate discounted capacity\n",
    "C = (I*0.4).round().astype(int)\n",
    "df_leg['capacity'] = C\n",
    "df_leg.head()"
   ]
  },
  {
   "cell_type": "code",
   "execution_count": 33,
   "metadata": {
    "collapsed": true
   },
   "outputs": [],
   "source": [
    "from gurobipy import *"
   ]
  },
  {
   "cell_type": "code",
   "execution_count": 34,
   "metadata": {
    "collapsed": true
   },
   "outputs": [],
   "source": [
    "model = Model(\"network\")\n",
    "\n",
    "## create decision variables \n",
    "W = [[[ 0 for t in T] for k in K ] for j in J]\n",
    "\n",
    "for t in T:\n",
    "    for k in K:\n",
    "        for j in J:\n",
    "            W[j][k][t] = model.addVar( vtype = GRB.CONTINUOUS, \n",
    "                                        name = \"W_\" + str(j) + \"_\" + str(k) + \"_\" + str(t))\n",
    "            \n",
    "model.update()"
   ]
  },
  {
   "cell_type": "markdown",
   "metadata": {},
   "source": [
    "\\begin{equation*}\n",
    "Maximize\n",
    "\\sum_{t \\ \\in \\ T} \n",
    "\\sum_{k \\ \\in \\ K}\n",
    "\\sum_{j \\ \\in \\ J}\n",
    "f_{jk} \\  \n",
    "w_{jkt}\n",
    "\\end{equation*}\n"
   ]
  },
  {
   "cell_type": "code",
   "execution_count": 35,
   "metadata": {
    "collapsed": true
   },
   "outputs": [],
   "source": [
    "## create a linear expression of the objective \n",
    "objExpr = LinExpr()\n",
    "for t in T:\n",
    "    for k in K:\n",
    "        for j in J:\n",
    "            objExpr += F[j][k] * W[j][k][t]\n",
    "model.setObjective(objExpr, GRB.MAXIMIZE)"
   ]
  },
  {
   "cell_type": "markdown",
   "metadata": {},
   "source": [
    "\\begin{equation*}\n",
    "\\ C_i - \n",
    "\\sum_{s \\ \\in \\ T}\n",
    "\\sum_{k \\ \\in \\ K}\n",
    "\\mathbf{1}(s \\leq t)\n",
    "\\sum_{j \\ \\in \\ J}\n",
    "w_{jkt} \\ \n",
    "e_{ji} \n",
    "+ \n",
    "\\sum_{s \\ \\in \\ T}\n",
    "\\sum_{k \\ \\in \\ K}\n",
    "\\mathbf{1}(s \\leq t - L)\n",
    "(1-p)(1-\\pi)\n",
    "\\sum_{j \\ \\in \\ J}\n",
    "w_{jkt} \\ \n",
    "e_{ji} \n",
    "\\geq 0\n",
    "\\ , \n",
    "\\forall \\ i \\ \\in \\ N\n",
    "\\ ,\n",
    "\\forall \\ t \\ \\in \\ T\n",
    "\\end{equation*}\n"
   ]
  },
  {
   "cell_type": "code",
   "execution_count": 36,
   "metadata": {},
   "outputs": [],
   "source": [
    "import time"
   ]
  },
  {
   "cell_type": "code",
   "execution_count": 37,
   "metadata": {},
   "outputs": [
    {
     "name": "stdout",
     "output_type": "stream",
     "text": [
      "4.554309129714966\n"
     ]
    }
   ],
   "source": [
    "t1 = time.time()\n",
    "\n",
    "## create constraints for capacity\n",
    "for t in T:\n",
    "    for i in N:\n",
    "        constExpr = LinExpr()\n",
    "        for s in T:\n",
    "            for k in K:\n",
    "                for j in J:\n",
    "                    constExpr += one(s <= t)*W[j][k][t]*E[j][i] + one(s <= t - L)*(1 - p)*(1 - pi)*W[j][k][t]*E[j][i]\n",
    "        model.addConstr(lhs = constExpr, sense = GRB.LESS_EQUAL, rhs = C[i],\n",
    "                        name = 'capacity_on_leg_' + str(i) + 'at_' + str(t))\n",
    "    \n",
    "model.update()\n",
    "print(time.time() - t1)"
   ]
  },
  {
   "cell_type": "markdown",
   "metadata": {},
   "source": [
    "\\begin{equation*}\n",
    "w_{jkt} \n",
    "\\leq\n",
    "\\lambda_{jkt}\n",
    "\\end{equation*}"
   ]
  },
  {
   "cell_type": "code",
   "execution_count": 38,
   "metadata": {
    "collapsed": true
   },
   "outputs": [],
   "source": [
    "## create constraints for W\n",
    "for t in T:\n",
    "    for k in K:\n",
    "        for j in J:\n",
    "            descison_var = LinExpr()\n",
    "            decision_var = W[j][k][t]\n",
    "            \n",
    "            bound = LinExpr()\n",
    "            bound = lmd[j][k][t]\n",
    "            \n",
    "            model.addConstr(lhs = decision_var, sense = GRB.LESS_EQUAL, rhs = bound, \n",
    "                            name = 'prob_' + str(j)  + \"_\" + str(k) + \"_\" + str(t))\n",
    "            \n",
    "model.update()"
   ]
  },
  {
   "cell_type": "code",
   "execution_count": 39,
   "metadata": {
    "collapsed": true
   },
   "outputs": [],
   "source": [
    "## Write the model in a file\n",
    "#model.write(filename = \"testOutput3.lp\")"
   ]
  },
  {
   "cell_type": "code",
   "execution_count": 40,
   "metadata": {},
   "outputs": [
    {
     "name": "stdout",
     "output_type": "stream",
     "text": [
      "Optimize a model with 1000 rows, 900 columns and 2040 nonzeros\n",
      "Coefficient statistics:\n",
      "  Matrix range     [1e+00, 2e+01]\n",
      "  Objective range  [2e+02, 1e+03]\n",
      "  Bounds range     [0e+00, 0e+00]\n",
      "  RHS range        [7e-03, 3e+00]\n",
      "Presolve removed 938 rows and 348 columns\n",
      "Presolve time: 0.01s\n",
      "Presolved: 62 rows, 552 columns, 696 nonzeros\n",
      "\n",
      "Iteration    Objective       Primal Inf.    Dual Inf.      Time\n",
      "       0    1.0486000e+04   1.349759e+01   0.000000e+00      0s\n",
      "      79    7.8796313e+03   0.000000e+00   0.000000e+00      0s\n",
      "\n",
      "Solved in 79 iterations and 0.03 seconds\n",
      "Optimal objective  7.879631276e+03\n"
     ]
    }
   ],
   "source": [
    "## print optimal ojective and optimal solution\n",
    "model.optimize()"
   ]
  },
  {
   "cell_type": "code",
   "execution_count": 41,
   "metadata": {},
   "outputs": [
    {
     "name": "stdout",
     "output_type": "stream",
     "text": [
      "\n",
      "Optimal Objedctive: 7879.631275771103\n",
      "\n",
      "Optimal Solution(first 10):\n",
      "W_0_0_0 0.01695983176332726\n",
      "W_1_0_0 0.019769329538875228\n",
      "W_2_0_0 0.009624253143414916\n",
      "W_3_0_0 0.029075086739925676\n",
      "W_4_0_0 0.02359016538530871\n",
      "W_5_0_0 0.024245492710294126\n",
      "W_6_0_0 0.009433994591560102\n",
      "W_7_0_0 0.023855335386378348\n",
      "W_8_0_0 0.008857697826344883\n",
      "W_9_0_0 0.025209649652777784\n"
     ]
    }
   ],
   "source": [
    "## print optimal objective and optimal solution\n",
    "print(\"\\nOptimal Objedctive: \" + str(model.Objval))\n",
    "print(\"\\nOptimal Solution(first 10):\")\n",
    "allVars = model.getVars()\n",
    "for curVar in allVars[:10]:\n",
    "    print(curVar.varname + \" \" + str(curVar.x)) "
   ]
  },
  {
   "cell_type": "code",
   "execution_count": 42,
   "metadata": {
    "scrolled": true
   },
   "outputs": [
    {
     "data": {
      "text/plain": [
       "<matplotlib.collections.PathCollection at 0x11370e278>"
      ]
     },
     "execution_count": 42,
     "metadata": {},
     "output_type": "execute_result"
    },
    {
     "data": {
      "image/png": "[encoded data removed]",
      "text/plain": [
       "<matplotlib.figure.Figure at 0x112bab518>"
      ]
     },
     "metadata": {},
     "output_type": "display_data"
    }
   ],
   "source": [
    "##plot the optimal probability \n",
    "\n",
    "w_dist = []\n",
    "for curVar in allVars:\n",
    "    w_dist.append(curVar.x)\n",
    "lmd_dist = []\n",
    "for j in J:\n",
    "    for k in K:\n",
    "        for t in T:\n",
    "            lmd_dist.append(lmd[j][k][t])\n",
    "            \n",
    "##optimal vs constraints\n",
    "##optimal in blue\n",
    "##constraints in red\n",
    "\n",
    "w_dist = np.array(w_dist)\n",
    "w_dist = np.array(lmd_dist)\n",
    "\n",
    "plt.figure(figsize = (10,5))  \n",
    "plt.subplot(2,1,1)\n",
    "plt.scatter(range(len(w_dist)), w_dist, s = 2)\n",
    "plt.subplot(2,1,2)\n",
    "plt.scatter(range(len(w_dist)), lmd_dist, s = 2, color = \"red\")"
   ]
  },
  {
   "cell_type": "markdown",
   "metadata": {},
   "source": [
    "## Simulation"
   ]
  },
  {
   "cell_type": "code",
   "execution_count": 43,
   "metadata": {},
   "outputs": [
    {
     "data": {
      "text/plain": [
       "(15, 3, 20)"
      ]
     },
     "execution_count": 43,
     "metadata": {},
     "output_type": "execute_result"
    }
   ],
   "source": [
    "##convert optimal solution to matrix\n",
    "W = w_dist.reshape(len(J), len(K), len(T))\n",
    "W.shape"
   ]
  },
  {
   "cell_type": "code",
   "execution_count": 44,
   "metadata": {},
   "outputs": [],
   "source": [
    "# np.save('W',W )\n",
    "# np.save('lmd', lmd)"
   ]
  },
  {
   "cell_type": "code",
   "execution_count": 45,
   "metadata": {},
   "outputs": [
    {
     "data": {
      "text/plain": [
       "0"
      ]
     },
     "execution_count": 45,
     "metadata": {},
     "output_type": "execute_result"
    }
   ],
   "source": [
    "((w_dist - lmd_dist)!=0).sum()"
   ]
  },
  {
   "cell_type": "code",
   "execution_count": 46,
   "metadata": {},
   "outputs": [],
   "source": [
    "from math import floor\n",
    "\n",
    "def rand_lmd(lmd_at_t):\n",
    "    lmd_at_t = np.array([lmd[j][k][t] for k in K for j in J])  ## construct lamda probs interval\n",
    "    sum_lmd = np.array([lmd_at_t[:i].sum() for i in range(len(K)*len(J)+1)])\n",
    "    a = np.random.uniform(0,1)\n",
    "    pos = np.where(sum_lmd > a)[0][0] - 1\n",
    "    i = floor(pos/len(K)) \n",
    "\n",
    "    c = pos%len(K) \n",
    "\n",
    "    return i, c"
   ]
  },
  {
   "cell_type": "code",
   "execution_count": 47,
   "metadata": {},
   "outputs": [],
   "source": [
    "import copy\n",
    "\n",
    "revenue = 0\n",
    "Cap = C.copy()\n",
    "Cap_path =[]\n",
    "lock_path = []\n",
    "\n",
    "for t in T:\n",
    "    lmd_at_t = np.array([lmd[j][k][t] for k in K for j in J])  ## construct lamda probs interval\n",
    "    i, c = rand_lmd(lmd_at_t)  ## random a itinenary and a class. i: index of itinenary. c: index of class\n",
    "    if (Cap >= E[i]).sum() == len(Cap):\n",
    "        prob_to_accept = W[i][c][t]/lmd[i][c][t]\n",
    "        if np.random.binomial(1,prob_to_accept) == 1:  ## whether to accept or not\n",
    "            Cap -= E[i]\n",
    "            if np.random.binomial(1,p) == 1:           ## whether the customer buy to lock\n",
    "                revenue += R[i,c]                     ## add revenue\n",
    "                lock_path.append(0)\n",
    "            else:\n",
    "                revenue += u                           ## add revenue from locking fee\n",
    "                lock_path.append(1)\n",
    "                if t >= L:\n",
    "                    if np.random.binomial(1,pi) == 1:      ## buy or leave\n",
    "                        revenue += R[i,c]\n",
    "                    elif lock_path[t-L] == 1:\n",
    "                        Cap += E[i]\n",
    "        else:\n",
    "            lock_path.append(0)      \n",
    "    else:\n",
    "        lock_path.append(0)      \n",
    "    Cap_path.append(Cap.copy())"
   ]
  },
  {
   "cell_type": "code",
   "execution_count": 48,
   "metadata": {},
   "outputs": [
    {
     "data": {
      "text/plain": [
       "3391.5397754727228"
      ]
     },
     "execution_count": 48,
     "metadata": {},
     "output_type": "execute_result"
    }
   ],
   "source": [
    "revenue"
   ]
  },
  {
   "cell_type": "code",
   "execution_count": 49,
   "metadata": {},
   "outputs": [
    {
     "data": {
      "text/plain": [
       "[<matplotlib.lines.Line2D at 0x113869a90>]"
      ]
     },
     "execution_count": 49,
     "metadata": {},
     "output_type": "execute_result"
    },
    {
     "data": {
      "image/png": "[encoded data removed]",
      "text/plain": [
       "<matplotlib.figure.Figure at 0x1137405f8>"
      ]
     },
     "metadata": {},
     "output_type": "display_data"
    }
   ],
   "source": [
    "plt.figure(figsize= (10,6))\n",
    "plt.plot(T, np.array(Cap_path)[:,0])\n",
    "plt.plot(T, np.array(Cap_path)[:,1])\n",
    "plt.plot(T, np.array(Cap_path)[:,2])\n",
    "plt.plot(T, np.array(Cap_path)[:,3])"
   ]
  },
  {
   "cell_type": "code",
   "execution_count": null,
   "metadata": {
    "collapsed": true
   },
   "outputs": [],
   "source": []
  }
 ],
 "metadata": {
  "kernelspec": {
   "display_name": "Python 3",
   "language": "python",
   "name": "python3"
  },
  "language_info": {
   "codemirror_mode": {
    "name": "ipython",
    "version": 3
   },
   "file_extension": ".py",
   "mimetype": "text/x-python",
   "name": "python",
   "nbconvert_exporter": "python",
   "pygments_lexer": "ipython3",
   "version": "3.6.1"
  }
 },
 "nbformat": 4,
 "nbformat_minor": 2
}
