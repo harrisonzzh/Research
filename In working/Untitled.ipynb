{
 "cells": [
  {
   "cell_type": "markdown",
   "metadata": {},
   "source": [
    "\\begin{equation*}\n",
    "Maximize\n",
    "\\sum_{t \\ \\in \\ T} \n",
    "\\sum_{k \\ \\in \\ K}\n",
    "\\sum_{j \\ \\in \\ J}\n",
    "f_{jk} \\  \n",
    "w_{jkt}\n",
    "\\end{equation*}\n",
    "\n",
    "\\begin{equation*}\n",
    "Subject\\ to:\\ C_i - \n",
    "\\sum_{s \\ \\in \\ T}\n",
    "\\sum_{k \\ \\in \\ K}\n",
    "\\mathbf{1}(s \\leq t)\n",
    "\\sum_{j \\ \\in \\ J}\n",
    "w_{jkt} \\ \n",
    "e_{ji} \n",
    " \\\\ + \n",
    "\\sum_{s \\ \\in \\ T}\n",
    "\\sum_{k \\ \\in \\ K}\n",
    "\\mathbf{1}(s \\leq t - L)\n",
    "(1-p)(1-\\pi)\n",
    "\\sum_{j \\ \\in \\ J}\n",
    "w_{jkt} \\ \n",
    "e_{ji} \n",
    "\\geq 0\n",
    "\\, \n",
    "\\forall \\ i \\ \\in \\ N\n",
    "\\ ,\n",
    "\\forall \\ t \\ \\in \\ T\n",
    "\\\\\n",
    "w_{jkt} \n",
    "\\leq\n",
    "\\lambda_{jkt}\n",
    "\\\\\n",
    "f_{jk} = p\\ r_{jk} + (1 - p)\\ (u + \\pi\\ r_{jk})\n",
    "\\end{equation*}"
   ]
  },
  {
   "cell_type": "markdown",
   "metadata": {},
   "source": [
    "$f_{jk}:$ The expected revenue from itinenary j for fare class j. <br>\n",
    "$w_{jkt}:$ (Decision variable) The probability that we will accept a request for itinenary j with fare class t at time t. <br>\n",
    "$e_{ji}:$ If flight leg i in itinenary j, $e_{ji}$ = 1. Otherwise, $e_{ji}$ = 0 <br>\n",
    "$C_{i}:$ Capacity of flight leg i. <br>\n",
    "$\\mathbf{1}:$ Decision function. $\\mathbf{1}(a)$ = 1 if $a \\leq 0$. $\\mathbf{1}(a)$ = 0, otherwise. <br>\n",
    "$\\lambda_{jkt}$: The probability that a customer is insterest in itinenary j with fare class k at time t. <br>\n",
    "$r_{jk}$: Ticket price for itinenary j with fare class k <br>\n",
    "\n",
    "$T:$ All the time periods. <br>\n",
    "$K:$ All the fare classes. <br>\n",
    "$J:$ All the itinenaries. <br>\n",
    "$N:$ All the flight legs. <br>\n",
    "$L:$ The time a customer can lock for the fare. <br>\n",
    "$p:$ Probability that a customer purchased a ticket directly. <br>\n",
    "$1 - p:$ Probability that a customer locked a ticket. <br>\n",
    "$\\pi :$ Prabability that a customer finally bought the ticket that he locked <br>\n",
    "$\n"
   ]
  },
  {
   "cell_type": "code",
   "execution_count": 1,
   "metadata": {
    "collapsed": true
   },
   "outputs": [],
   "source": [
    "import numpy as np\n",
    "C = np.array([0 , 1, 2])"
   ]
  },
  {
   "cell_type": "code",
   "execution_count": 4,
   "metadata": {},
   "outputs": [
    {
     "data": {
      "text/plain": [
       "2"
      ]
     },
     "execution_count": 4,
     "metadata": {},
     "output_type": "execute_result"
    }
   ],
   "source": [
    "(C > 0).sum()"
   ]
  },
  {
   "cell_type": "code",
   "execution_count": 13,
   "metadata": {},
   "outputs": [
    {
     "data": {
      "text/plain": [
       "array([ 0. ,  0.2,  0.5,  1. ])"
      ]
     },
     "execution_count": 13,
     "metadata": {},
     "output_type": "execute_result"
    }
   ],
   "source": [
    "l = np.array([0.2, 0.3, 0.5])\n",
    "L = np.array([sum(l[:i]) for i in range(len(l)+1)])\n",
    "L"
   ]
  },
  {
   "cell_type": "code",
   "execution_count": 24,
   "metadata": {
    "collapsed": true
   },
   "outputs": [],
   "source": [
    "a = np.random.uniform(0,1)\n",
    "ind = np.array(list(range(4)))"
   ]
  },
  {
   "cell_type": "code",
   "execution_count": 32,
   "metadata": {},
   "outputs": [
    {
     "data": {
      "text/plain": [
       "0.4355829450827937"
      ]
     },
     "execution_count": 32,
     "metadata": {},
     "output_type": "execute_result"
    }
   ],
   "source": [
    "ind[L >= a]\n",
    "L\n",
    "a"
   ]
  },
  {
   "cell_type": "code",
   "execution_count": 51,
   "metadata": {},
   "outputs": [],
   "source": [
    "def rand_lmd(probs):\n",
    "    n = len(probs)\n",
    "    intervals = np.array([sum(probs[:i]) for i in range(n + 1)])\n",
    "    a = np.random.uniform(0,1)\n",
    "    index = np.array(list(range(n+1)))\n",
    "    return index[intervals >= a][0]-1,a\n",
    "a,b = rand_lmd(l)"
   ]
  },
  {
   "cell_type": "code",
   "execution_count": 52,
   "metadata": {},
   "outputs": [
    {
     "data": {
      "text/plain": [
       "1"
      ]
     },
     "execution_count": 52,
     "metadata": {},
     "output_type": "execute_result"
    }
   ],
   "source": [
    "a"
   ]
  },
  {
   "cell_type": "code",
   "execution_count": null,
   "metadata": {
    "collapsed": true
   },
   "outputs": [],
   "source": []
  },
  {
   "cell_type": "code",
   "execution_count": null,
   "metadata": {
    "collapsed": true
   },
   "outputs": [],
   "source": []
  }
 ],
 "metadata": {
  "kernelspec": {
   "display_name": "Python 3",
   "language": "python",
   "name": "python3"
  },
  "language_info": {
   "codemirror_mode": {
    "name": "ipython",
    "version": 3
   },
   "file_extension": ".py",
   "mimetype": "text/x-python",
   "name": "python",
   "nbconvert_exporter": "python",
   "pygments_lexer": "ipython3",
   "version": "3.6.1"
  }
 },
 "nbformat": 4,
 "nbformat_minor": 2
}
